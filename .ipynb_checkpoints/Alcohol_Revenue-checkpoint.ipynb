{
 "cells": [
  {
   "cell_type": "code",
   "execution_count": 27,
   "metadata": {},
   "outputs": [],
   "source": [
    "#import standard libraries\n",
    "import os \n",
    "from matplotlib import pyplot as plt\n",
    "import numpy as np\n",
    "import pandas as pd"
   ]
  },
  {
   "cell_type": "code",
   "execution_count": 28,
   "metadata": {},
   "outputs": [],
   "source": [
    "# import csv files as data frames\n",
    "rev_data = pd.read_csv(\"/Users/rajkamalpandher/Desktop/Project1/Resources/Revenue_Data.csv\")\n",
    "police_data = pd.read_csv(\"/Users/rajkamalpandher/Desktop/Project1/Resources/AlcSales_Project1.csv\")\n",
    "alcohol_data = pd.read_csv(\"/Users/rajkamalpandher/Desktop/Project1/Resources/Police_csv.csv\")"
   ]
  },
  {
   "cell_type": "code",
   "execution_count": 30,
   "metadata": {},
   "outputs": [],
   "source": [
    "# cleaning up the data\n",
    "rev_data = rev_data.rename(columns= {\"MRTSSM4453USN\":\"Revenue by Million\"}) \n",
    "rev_data['DATE'].replace({\"2019-01-01\" :\"JAN. 19\", \n",
    "                          \"2019-06-01\": \"JUNE. 19\",\n",
    "                          \"2019-10-01\": \"OCT. 19\",\n",
    "                          \"2020-02-01\": \"FEB. 20\", \n",
    "                          \"2020-04-01\": \"APRIL. 20\", \n",
    "                          \"2020-06-01\" : \"JUNE. 20\", \n",
    "                          \"2020-09-01\" : \"SEP. 20\", \n",
    "                          \"2020-11-01\" : \"NOV. 20\", \n",
    "                         }, inplace=True)"
   ]
  },
  {
   "cell_type": "code",
   "execution_count": 31,
   "metadata": {},
   "outputs": [
    {
     "name": "stdout",
     "output_type": "stream",
     "text": [
      "          DATE  Revenue by Million\n",
      "0      JAN. 19                4134\n",
      "1   2019-02-01                4116\n",
      "2   2019-03-01                4673\n",
      "3   2019-04-01                4580\n",
      "4   2019-05-01                5109\n",
      "5     JUNE. 19                5011\n",
      "6   2019-07-01                5245\n",
      "7   2019-08-01                5270\n",
      "8   2019-09-01                4680\n",
      "9      OCT. 19                4913\n",
      "10  2019-11-01                5312\n",
      "11  2019-12-01                6630\n",
      "12  2020-01-01                4388\n",
      "13     FEB. 20                4533\n",
      "14  2020-03-01                5521\n",
      "15   APRIL. 20                5211\n",
      "16  2020-05-01                6263\n",
      "17    JUNE. 20                6078\n",
      "18  2020-07-01                6423\n",
      "19  2020-08-01                6099\n",
      "20     SEP. 20                5855\n",
      "21  2020-10-01                6050\n",
      "22     NOV. 20                6088\n",
      "53043\n",
      "63051\n"
     ]
    }
   ],
   "source": [
    "print(rev_data) # print the data \n",
    "year_2019 = rev_data[0:11].sum(axis = 0) # sum the total revenue across 2019 dates\n",
    "# axis=0 is to sum across the column\n",
    "print(year_2019[\"Revenue by Million\"])\n",
    "year_2020 = rev_data[11:22].sum(axis=0) # sum the total revenue across 2020 dates\n",
    "print(year_2020[\"Revenue by Million\"])"
   ]
  },
  {
   "cell_type": "code",
   "execution_count": 32,
   "metadata": {},
   "outputs": [],
   "source": [
    "seq = [0,5,9,13,15,17,20] # create a list of random indices\n",
    "rev_data1 = rev_data.iloc[seq, ] #subset of the data"
   ]
  },
  {
   "cell_type": "code",
   "execution_count": 33,
   "metadata": {},
   "outputs": [],
   "source": [
    "rev_data = rev_data.rename(columns= {\"MRTSSM4453USN\":\"Revenue by Million\"})\n",
    "rev_data['DATE'].replace({\"2019-01-01\" :\"JAN. 19\", \n",
    "                          \"2019-06-01\": \"JUNE. 19\",\n",
    "                          \"2019-10-01\": \"OCT. 19\",\n",
    "                          \"2020-02-01\": \"FEB. 20\", \n",
    "                          \"2020-04-01\": \"APRIL. 20\", \n",
    "                          \"2020-06-01\" : \"JUNE. 20\", \n",
    "                          \"2020-09-01\" : \"SEP. 20\", \n",
    "                          \"2020-11-01\" : \"NOV. 20\", \n",
    "                         }, inplace=True)"
   ]
  },
  {
   "cell_type": "code",
   "execution_count": 34,
   "metadata": {},
   "outputs": [],
   "source": [
   
   ]
  },
  {
   "cell_type": "code",
   "execution_count": 35,
   "metadata": {},
   "outputs": [
    {
     "data": {
      "text/plain": [
       "Text(0.5, 0, 'Date')"
      ]
     },
     "execution_count": 35,
     "metadata": {},
     "output_type": "execute_result"
    },
    {
     "data": {
      "image/png": "[encoded data removed]",
      "text/plain": [
       "<Figure size 432x288 with 1 Axes>"
      ]
     },
     "metadata": {
      "needs_background": "light"
     },
     "output_type": "display_data"
    }
   ],
   "source": [
    "# show line plot\n",
    "plt.plot(rev_data1['DATE'], rev_data1['Revenue by Million'])\n",
    "plt.ylabel('Revenue by Million')\n",
    "plt.xlabel('Date')"
   ]
  },
  {
   "cell_type": "code",
   "execution_count": 36,
   "metadata": {},
   "outputs": [],
   "source": [
    "result = pd.concat([year_2019, year_2020]) # make a list of the two sums for the two years"
   ]
  },
  {
   "cell_type": "code",
   "execution_count": 37,
   "metadata": {},
   "outputs": [],
   "source": [
    "# create a data to later turn into a pandas df\n",
    "data1 = {'Year': [\"2019\", \"2020\"],'Revenue by Million': [result[\"Revenue by Million\"][0], result[\"Revenue by Million\"][1]]}"
   ]
  },
  {
   "cell_type": "code",
   "execution_count": 38,
   "metadata": {},
   "outputs": [],
   "source": [
    "total_df = pd.DataFrame(data = data1) # create dataframe "
   ]
  },
  {
   "cell_type": "code",
   "execution_count": 39,
   "metadata": {},
   "outputs": [
    {
     "data": {
      "text/html": [
       "<div>\n",
       "<style scoped>\n",
       "    .dataframe tbody tr th:only-of-type {\n",
       "        vertical-align: middle;\n",
       "    }\n",
       "\n",
       "    .dataframe tbody tr th {\n",
       "        vertical-align: top;\n",
       "    }\n",
       "\n",
       "    .dataframe thead th {\n",
       "        text-align: right;\n",
       "    }\n",
       "</style>\n",
       "<table border=\"1\" class=\"dataframe\">\n",
       "  <thead>\n",
       "    <tr style=\"text-align: right;\">\n",
       "      <th></th>\n",
       "      <th>Year</th>\n",
       "      <th>Revenue by Million</th>\n",
       "    </tr>\n",
       "  </thead>\n",
       "  <tbody>\n",
       "    <tr>\n",
       "      <th>0</th>\n",
       "      <td>2019</td>\n",
       "      <td>53043</td>\n",
       "    </tr>\n",
       "    <tr>\n",
       "      <th>1</th>\n",
       "      <td>2020</td>\n",
       "      <td>63051</td>\n",
       "    </tr>\n",
       "  </tbody>\n",
       "</table>\n",
       "</div>"
      ],
      "text/plain": [
       "   Year  Revenue by Million\n",
       "0  2019               53043\n",
       "1  2020               63051"
      ]
     },
     "execution_count": 39,
     "metadata": {},
     "output_type": "execute_result"
    }
   ],
   "source": [
    "total_df"
   ]
  },
  {
   "cell_type": "code",
   "execution_count": 40,
   "metadata": {},
   "outputs": [
    {
     "data": {
      "text/plain": [
       "Text(0.5, 0, 'Year')"
      ]
     },
     "execution_count": 40,
     "metadata": {},
     "output_type": "execute_result"
    },
    {
     "data": {
      "image/png": "[encoded data removed]",
      "text/plain": [
       "<Figure size 432x288 with 1 Axes>"
      ]
     },
     "metadata": {
      "needs_background": "light"
     },
     "output_type": "display_data"
    }
   ],
   "source": [
    "# plot the totals\n",
    "plt.bar(total_df['Year'], total_df['Revenue by Million'], width=0.8)\n",
    "plt.ylabel('Revenue by Million')\n",
    "plt.xlabel('Year')"
   ]
  },
  {
   "cell_type": "code",
   "execution_count": null,
   "metadata": {},
   "outputs": [],
   "source": []
  }
 ],
 "metadata": {
  "kernelspec": {
   "display_name": "Python 3",
   "language": "python",
   "name": "python3"
  },
  "language_info": {
   "codemirror_mode": {
    "name": "ipython",
    "version": 3
   },
   "file_extension": ".py",
   "mimetype": "text/x-python",
   "name": "python",
   "nbconvert_exporter": "python",
   "pygments_lexer": "ipython3",
   "version": "3.8.5"
  }
 },
 "nbformat": 4,
 "nbformat_minor": 4
}
